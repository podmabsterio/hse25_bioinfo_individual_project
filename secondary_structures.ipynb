{
 "cells": [
  {
   "cell_type": "code",
   "execution_count": 3,
   "id": "49293716",
   "metadata": {},
   "outputs": [],
   "source": [
    "import pandas as pd\n",
    "from Bio import SeqIO"
   ]
  },
  {
   "cell_type": "markdown",
   "id": "949eac43",
   "metadata": {},
   "source": [
    "Маленькая функция чтобы не копировать код"
   ]
  },
  {
   "cell_type": "code",
   "execution_count": 4,
   "id": "ce723034",
   "metadata": {},
   "outputs": [],
   "source": [
    "def save_bed(df: pd.DataFrame, name: str):\n",
    "    df.to_csv(f'{name}.bed', header=False, index=False, sep='\\t')"
   ]
  },
  {
   "cell_type": "markdown",
   "id": "219c4bfb",
   "metadata": {},
   "source": [
    "# ZDNABERT"
   ]
  },
  {
   "cell_type": "markdown",
   "id": "02341d23",
   "metadata": {},
   "source": [
    "Разделим наш геном на три части, и сделаем три запуска ZDNABERT"
   ]
  },
  {
   "cell_type": "code",
   "execution_count": 1,
   "id": "e98e527e",
   "metadata": {},
   "outputs": [
    {
     "name": "stderr",
     "output_type": "stream",
     "text": [
      "[INFO]\u001b[0m split seqs from data/remanei_genomic.fa\n",
      "[INFO]\u001b[0m split into 3 parts\n",
      "[INFO]\u001b[0m write 1224 sequences to file: data/splitted_genome/remanei_genomic.part_001.fa\n",
      "[INFO]\u001b[0m write 1223 sequences to file: data/splitted_genome/remanei_genomic.part_002.fa\n",
      "[INFO]\u001b[0m write 1223 sequences to file: data/splitted_genome/remanei_genomic.part_003.fa\n"
     ]
    }
   ],
   "source": [
    "%%bash\n",
    "seqkit split2 -p 3 data/remanei_genomic.fa -O data/splitted_genome"
   ]
  },
  {
   "cell_type": "markdown",
   "id": "aceb8585",
   "metadata": {},
   "source": [
    "ZDNABERT запускался в колабе в отдельном ноутбуке от авторов статьи: https://colab.research.google.com/github/mitiau/Z-DNABERT/blob/main/ZDNA-prediction.ipynb\n",
    "\n",
    "Сюда перенесены просто его выходы:"
   ]
  },
  {
   "cell_type": "code",
   "execution_count": 47,
   "id": "54baa6fc",
   "metadata": {},
   "outputs": [
    {
     "name": "stdout",
     "output_type": "stream",
     "text": [
      "text_predictions_pt1.txt\n",
      "text_predictions_pt2.txt\n",
      "text_predictions_pt3.txt\n"
     ]
    }
   ],
   "source": [
    "%%bash\n",
    "\n",
    "ls zdnabert_results"
   ]
  },
  {
   "cell_type": "markdown",
   "id": "1ba051e5",
   "metadata": {},
   "source": [
    "Распарсим его выходы и сохраним в bed файл"
   ]
  },
  {
   "cell_type": "code",
   "execution_count": 9,
   "id": "23bf359c",
   "metadata": {},
   "outputs": [
    {
     "data": {
      "application/vnd.microsoft.datawrangler.viewer.v0+json": {
       "columns": [
        {
         "name": "index",
         "rawType": "int64",
         "type": "integer"
        },
        {
         "name": "Contig",
         "rawType": "object",
         "type": "string"
        },
        {
         "name": "start",
         "rawType": "int64",
         "type": "integer"
        },
        {
         "name": "end",
         "rawType": "int64",
         "type": "integer"
        }
       ],
       "ref": "c5d4284f-1b0a-4a95-9937-5412e2c45064",
       "rows": [
        [
         "1860",
         "Crem_Contig238",
         "18428",
         "18444"
        ],
        [
         "376",
         "Crem_Contig0",
         "4296352",
         "4296363"
        ],
        [
         "1480",
         "Crem_Contig105",
         "208358",
         "208371"
        ]
       ],
       "shape": {
        "columns": 3,
        "rows": 3
       }
      },
      "text/html": [
       "<div>\n",
       "<style scoped>\n",
       "    .dataframe tbody tr th:only-of-type {\n",
       "        vertical-align: middle;\n",
       "    }\n",
       "\n",
       "    .dataframe tbody tr th {\n",
       "        vertical-align: top;\n",
       "    }\n",
       "\n",
       "    .dataframe thead th {\n",
       "        text-align: right;\n",
       "    }\n",
       "</style>\n",
       "<table border=\"1\" class=\"dataframe\">\n",
       "  <thead>\n",
       "    <tr style=\"text-align: right;\">\n",
       "      <th></th>\n",
       "      <th>Contig</th>\n",
       "      <th>start</th>\n",
       "      <th>end</th>\n",
       "    </tr>\n",
       "  </thead>\n",
       "  <tbody>\n",
       "    <tr>\n",
       "      <th>1860</th>\n",
       "      <td>Crem_Contig238</td>\n",
       "      <td>18428</td>\n",
       "      <td>18444</td>\n",
       "    </tr>\n",
       "    <tr>\n",
       "      <th>376</th>\n",
       "      <td>Crem_Contig0</td>\n",
       "      <td>4296352</td>\n",
       "      <td>4296363</td>\n",
       "    </tr>\n",
       "    <tr>\n",
       "      <th>1480</th>\n",
       "      <td>Crem_Contig105</td>\n",
       "      <td>208358</td>\n",
       "      <td>208371</td>\n",
       "    </tr>\n",
       "  </tbody>\n",
       "</table>\n",
       "</div>"
      ],
      "text/plain": [
       "              Contig    start      end\n",
       "1860  Crem_Contig238    18428    18444\n",
       "376     Crem_Contig0  4296352  4296363\n",
       "1480  Crem_Contig105   208358   208371"
      ]
     },
     "execution_count": 9,
     "metadata": {},
     "output_type": "execute_result"
    }
   ],
   "source": [
    "def parse_zdnabert_output_file(filepath):\n",
    "    result = []\n",
    "    with open(filepath, 'r') as file:\n",
    "        file.readline()\n",
    "        contig = None\n",
    "        for line in file:\n",
    "            parts = line.split()\n",
    "            if parts[0].startswith('Crem_Contig'):\n",
    "                contig = parts[0]\n",
    "            elif len(parts) == 2 and parts[0].isdigit() and parts[1].isdigit():\n",
    "                result.append({\n",
    "                    'Contig': contig,\n",
    "                    'start': int(parts[0]),\n",
    "                    'end': int(parts[1]),\n",
    "                })\n",
    "            elif parts[0] != 'start':\n",
    "                print(f'Undefined line: {line}')\n",
    "                \n",
    "    return result\n",
    "\n",
    "all_files_result = []\n",
    "for i in range(1, 4):\n",
    "    filepath = f'zdnabert_results/text_predictions_pt{i}.txt'\n",
    "    all_files_result.extend(parse_zdnabert_output_file(filepath))\n",
    "    \n",
    "zdnabert_df = pd.DataFrame(all_files_result)\n",
    "save_bed(zdnabert_df, 'zdnabert_result')\n",
    "zdnabert_df.sample(3)"
   ]
  },
  {
   "cell_type": "markdown",
   "id": "be2eb0e3",
   "metadata": {},
   "source": [
    "# Z-HUNT"
   ]
  },
  {
   "cell_type": "markdown",
   "id": "8f70744e",
   "metadata": {},
   "source": [
    "Соберем Z-Hunt\n",
    "\n",
    "\n",
    "**!!!Важно!!!** отметить, что тут используется версия программы куда уже вшито отсичения результатов по скору, потому она работает быстрее и ничего дополнительно фильтровать не нужно"
   ]
  },
  {
   "cell_type": "code",
   "execution_count": 4,
   "id": "ddb73e8f",
   "metadata": {},
   "outputs": [
    {
     "name": "stderr",
     "output_type": "stream",
     "text": [
      "zhunt3-alan.c: In function ‘user_regret’:\n",
      "zhunt3-alan.c:303:7: warning: implicit declaration of function ‘gets’; did you mean ‘fgets’? [-Wimplicit-function-declaration]\n",
      "  303 |       gets( tempstr );\n",
      "      |       ^~~~\n",
      "      |       fgets\n",
      "/usr/bin/ld: /tmp/ccaddCZW.o: in function `user_regret':\n",
      "zhunt3-alan.c:(.text+0xbd3): warning: the `gets' function is dangerous and should not be used.\n"
     ]
    }
   ],
   "source": [
    "%%bash\n",
    "gcc zhunt3-alan.c -lm -o zhunt3"
   ]
  },
  {
   "cell_type": "markdown",
   "id": "5f0d40e2",
   "metadata": {},
   "source": [
    "Теперь разделим геном уже на 6 частей"
   ]
  },
  {
   "cell_type": "code",
   "execution_count": 2,
   "id": "cdacb109",
   "metadata": {},
   "outputs": [
    {
     "name": "stderr",
     "output_type": "stream",
     "text": [
      "[INFO]\u001b[0m split seqs from data/remanei_genomic.fa\n",
      "[INFO]\u001b[0m split into 6 parts\n",
      "[INFO]\u001b[0m write 612 sequences to file: data/splitted_genome_6/remanei_genomic.part_001.fa\n",
      "[INFO]\u001b[0m write 612 sequences to file: data/splitted_genome_6/remanei_genomic.part_002.fa\n",
      "[INFO]\u001b[0m write 612 sequences to file: data/splitted_genome_6/remanei_genomic.part_003.fa\n",
      "[INFO]\u001b[0m write 612 sequences to file: data/splitted_genome_6/remanei_genomic.part_004.fa\n",
      "[INFO]\u001b[0m write 611 sequences to file: data/splitted_genome_6/remanei_genomic.part_005.fa\n",
      "[INFO]\u001b[0m write 611 sequences to file: data/splitted_genome_6/remanei_genomic.part_006.fa\n"
     ]
    }
   ],
   "source": [
    "%%bash\n",
    "seqkit split2 -p 6 data/remanei_genomic.fa -O data/splitted_genome_6"
   ]
  },
  {
   "cell_type": "markdown",
   "id": "8e0e9c0e",
   "metadata": {},
   "source": [
    "Запустим параллельную обработку с помощью Z-Hunt"
   ]
  },
  {
   "cell_type": "code",
   "execution_count": 1,
   "id": "b2cf1ef9",
   "metadata": {},
   "outputs": [
    {
     "name": "stdout",
     "output_type": "stream",
     "text": [
      "dinucleotides 12\n",
      "min/max 8 12\n",
      "min/max 8 12\n",
      "operating on data/splitted_genome_6/remanei_genomic.part_001.fa\n",
      "calculating zscore\n",
      "opening data/splitted_genome_6/remanei_genomic.part_001.fa\n",
      "inputting sequence\n",
      "opening data/splitted_genome_6/remanei_genomic.part_001.fa.Z-SCORE\n",
      "\n",
      " run time=2272 sec\n",
      "use min/max 8 12\n",
      "analyzing_zscore\n",
      "opening data/splitted_genome_6/remanei_genomic.part_001.fa.Z-SCORE\n",
      "opening data/splitted_genome_6/remanei_genomic.part_001.fa\n",
      "inputting sequence\n",
      "dinucleotides 12\n",
      "min/max 8 12\n",
      "min/max 8 12\n",
      "operating on data/splitted_genome_6/remanei_genomic.part_005.fa\n",
      "calculating zscore\n",
      "opening data/splitted_genome_6/remanei_genomic.part_005.fa\n",
      "inputting sequence\n",
      "opening data/splitted_genome_6/remanei_genomic.part_005.fa.Z-SCORE\n",
      "\n",
      " run time=2983 sec\n",
      "use min/max 8 12\n",
      "analyzing_zscore\n",
      "opening data/splitted_genome_6/remanei_genomic.part_005.fa.Z-SCORE\n",
      "opening data/splitted_genome_6/remanei_genomic.part_005.fa\n",
      "inputting sequence\n",
      "dinucleotides 12\n",
      "min/max 8 12\n",
      "min/max 8 12\n",
      "operating on data/splitted_genome_6/remanei_genomic.part_006.fa\n",
      "calculating zscore\n",
      "opening data/splitted_genome_6/remanei_genomic.part_006.fa\n",
      "inputting sequence\n",
      "opening data/splitted_genome_6/remanei_genomic.part_006.fa.Z-SCORE\n",
      "\n",
      " run time=3184 sec\n",
      "use min/max 8 12\n",
      "analyzing_zscore\n",
      "opening data/splitted_genome_6/remanei_genomic.part_006.fa.Z-SCORE\n",
      "opening data/splitted_genome_6/remanei_genomic.part_006.fa\n",
      "inputting sequence\n",
      "dinucleotides 12\n",
      "min/max 8 12\n",
      "min/max 8 12\n",
      "operating on data/splitted_genome_6/remanei_genomic.part_004.fa\n",
      "calculating zscore\n",
      "opening data/splitted_genome_6/remanei_genomic.part_004.fa\n",
      "inputting sequence\n",
      "opening data/splitted_genome_6/remanei_genomic.part_004.fa.Z-SCORE\n",
      "\n",
      " run time=3346 sec\n",
      "use min/max 8 12\n",
      "analyzing_zscore\n",
      "opening data/splitted_genome_6/remanei_genomic.part_004.fa.Z-SCORE\n",
      "opening data/splitted_genome_6/remanei_genomic.part_004.fa\n",
      "inputting sequence\n",
      "dinucleotides 12\n",
      "min/max 8 12\n",
      "min/max 8 12\n",
      "operating on data/splitted_genome_6/remanei_genomic.part_003.fa\n",
      "calculating zscore\n",
      "opening data/splitted_genome_6/remanei_genomic.part_003.fa\n",
      "inputting sequence\n",
      "opening data/splitted_genome_6/remanei_genomic.part_003.fa.Z-SCORE\n",
      "\n",
      " run time=3639 sec\n",
      "use min/max 8 12\n",
      "analyzing_zscore\n",
      "opening data/splitted_genome_6/remanei_genomic.part_003.fa.Z-SCORE\n",
      "opening data/splitted_genome_6/remanei_genomic.part_003.fa\n",
      "inputting sequence\n",
      "dinucleotides 12\n",
      "min/max 8 12\n",
      "min/max 8 12\n",
      "operating on data/splitted_genome_6/remanei_genomic.part_002.fa\n",
      "calculating zscore\n",
      "opening data/splitted_genome_6/remanei_genomic.part_002.fa\n",
      "inputting sequence\n",
      "opening data/splitted_genome_6/remanei_genomic.part_002.fa.Z-SCORE\n",
      "\n",
      " run time=3845 sec\n",
      "use min/max 8 12\n",
      "analyzing_zscore\n",
      "opening data/splitted_genome_6/remanei_genomic.part_002.fa.Z-SCORE\n",
      "opening data/splitted_genome_6/remanei_genomic.part_002.fa\n",
      "inputting sequence\n"
     ]
    }
   ],
   "source": [
    "%%bash\n",
    "parallel -j 6 './zhunt3 12 8 12 {}' ::: data/splitted_genome_6/remanei_genomic.part_{001..006}.fa"
   ]
  },
  {
   "cell_type": "markdown",
   "id": "98d75a6c",
   "metadata": {},
   "source": [
    "Опять таки распарсим выходы Z-Hunt и обьединим выходы в один файл"
   ]
  },
  {
   "cell_type": "code",
   "execution_count": null,
   "id": "c5c92f1d",
   "metadata": {},
   "outputs": [
    {
     "name": "stdout",
     "output_type": "stream",
     "text": [
      "Parsing data/splitted_genome_6/remanei_genomic.part_001.fa\n",
      "    22699 lines added to bed file out of 22724\n",
      "Parsing data/splitted_genome_6/remanei_genomic.part_002.fa\n",
      "    34725 lines added to bed file out of 34752\n",
      "Parsing data/splitted_genome_6/remanei_genomic.part_003.fa\n",
      "    35129 lines added to bed file out of 35134\n",
      "Parsing data/splitted_genome_6/remanei_genomic.part_004.fa\n",
      "    30970 lines added to bed file out of 30993\n",
      "Parsing data/splitted_genome_6/remanei_genomic.part_005.fa\n",
      "    26947 lines added to bed file out of 26972\n",
      "Parsing data/splitted_genome_6/remanei_genomic.part_006.fa\n",
      "    26334 lines added to bed file out of 26338\n"
     ]
    },
    {
     "data": {
      "application/vnd.microsoft.datawrangler.viewer.v0+json": {
       "columns": [
        {
         "name": "index",
         "rawType": "int64",
         "type": "integer"
        },
        {
         "name": "Contig",
         "rawType": "object",
         "type": "string"
        },
        {
         "name": "start",
         "rawType": "int64",
         "type": "integer"
        },
        {
         "name": "end",
         "rawType": "int64",
         "type": "integer"
        }
       ],
       "ref": "2c1d0350-ec4f-4920-a8d9-48938d9b071e",
       "rows": [
        [
         "0",
         "Crem_Contig5428",
         "798",
         "816"
        ],
        [
         "1",
         "Crem_Contig5428",
         "800",
         "816"
        ],
        [
         "2",
         "Crem_Contig5428",
         "802",
         "818"
        ],
        [
         "3",
         "Crem_Contig5428",
         "804",
         "820"
        ],
        [
         "4",
         "Crem_Contig5428",
         "947",
         "971"
        ],
        [
         "5",
         "Crem_Contig5428",
         "949",
         "971"
        ],
        [
         "6",
         "Crem_Contig5428",
         "951",
         "971"
        ],
        [
         "7",
         "Crem_Contig3726",
         "334",
         "350"
        ],
        [
         "8",
         "Crem_Contig1619",
         "644",
         "668"
        ],
        [
         "9",
         "Crem_Contig1619",
         "646",
         "668"
        ],
        [
         "10",
         "Crem_Contig1619",
         "648",
         "668"
        ],
        [
         "11",
         "Crem_Contig1619",
         "649",
         "669"
        ],
        [
         "12",
         "Crem_Contig1619",
         "650",
         "668"
        ],
        [
         "13",
         "Crem_Contig1619",
         "651",
         "669"
        ],
        [
         "14",
         "Crem_Contig1619",
         "652",
         "668"
        ],
        [
         "15",
         "Crem_Contig2605",
         "228",
         "252"
        ],
        [
         "16",
         "Crem_Contig2605",
         "230",
         "254"
        ],
        [
         "17",
         "Crem_Contig2605",
         "231",
         "255"
        ],
        [
         "18",
         "Crem_Contig2605",
         "232",
         "254"
        ],
        [
         "19",
         "Crem_Contig2605",
         "233",
         "255"
        ],
        [
         "20",
         "Crem_Contig2605",
         "234",
         "254"
        ],
        [
         "21",
         "Crem_Contig2605",
         "235",
         "259"
        ],
        [
         "22",
         "Crem_Contig2605",
         "236",
         "260"
        ],
        [
         "23",
         "Crem_Contig2605",
         "237",
         "261"
        ],
        [
         "24",
         "Crem_Contig2605",
         "238",
         "262"
        ],
        [
         "25",
         "Crem_Contig2605",
         "239",
         "261"
        ],
        [
         "26",
         "Crem_Contig2605",
         "240",
         "262"
        ],
        [
         "27",
         "Crem_Contig2605",
         "241",
         "261"
        ],
        [
         "28",
         "Crem_Contig2605",
         "242",
         "262"
        ],
        [
         "29",
         "Crem_Contig2605",
         "243",
         "261"
        ],
        [
         "30",
         "Crem_Contig2605",
         "244",
         "262"
        ],
        [
         "31",
         "Crem_Contig2605",
         "245",
         "261"
        ],
        [
         "32",
         "Crem_Contig2605",
         "246",
         "262"
        ],
        [
         "33",
         "Crem_Contig2605",
         "247",
         "263"
        ],
        [
         "34",
         "Crem_Contig2605",
         "248",
         "266"
        ],
        [
         "35",
         "Crem_Contig2605",
         "249",
         "265"
        ],
        [
         "36",
         "Crem_Contig2605",
         "250",
         "266"
        ],
        [
         "37",
         "Crem_Contig816",
         "3817",
         "3841"
        ],
        [
         "38",
         "Crem_Contig816",
         "3819",
         "3841"
        ],
        [
         "39",
         "Crem_Contig816",
         "3820",
         "3844"
        ],
        [
         "40",
         "Crem_Contig816",
         "3821",
         "3841"
        ],
        [
         "41",
         "Crem_Contig816",
         "3822",
         "3844"
        ],
        [
         "42",
         "Crem_Contig816",
         "3823",
         "3841"
        ],
        [
         "43",
         "Crem_Contig816",
         "3824",
         "3844"
        ],
        [
         "44",
         "Crem_Contig816",
         "3825",
         "3841"
        ],
        [
         "45",
         "Crem_Contig816",
         "3826",
         "3844"
        ],
        [
         "46",
         "Crem_Contig816",
         "3827",
         "3843"
        ],
        [
         "47",
         "Crem_Contig816",
         "3828",
         "3844"
        ],
        [
         "48",
         "Crem_Contig816",
         "3829",
         "3845"
        ],
        [
         "49",
         "Crem_Contig816",
         "3830",
         "3846"
        ]
       ],
       "shape": {
        "columns": 3,
        "rows": 176804
       }
      },
      "text/html": [
       "<div>\n",
       "<style scoped>\n",
       "    .dataframe tbody tr th:only-of-type {\n",
       "        vertical-align: middle;\n",
       "    }\n",
       "\n",
       "    .dataframe tbody tr th {\n",
       "        vertical-align: top;\n",
       "    }\n",
       "\n",
       "    .dataframe thead th {\n",
       "        text-align: right;\n",
       "    }\n",
       "</style>\n",
       "<table border=\"1\" class=\"dataframe\">\n",
       "  <thead>\n",
       "    <tr style=\"text-align: right;\">\n",
       "      <th></th>\n",
       "      <th>Contig</th>\n",
       "      <th>start</th>\n",
       "      <th>end</th>\n",
       "    </tr>\n",
       "  </thead>\n",
       "  <tbody>\n",
       "    <tr>\n",
       "      <th>0</th>\n",
       "      <td>Crem_Contig5428</td>\n",
       "      <td>798</td>\n",
       "      <td>816</td>\n",
       "    </tr>\n",
       "    <tr>\n",
       "      <th>1</th>\n",
       "      <td>Crem_Contig5428</td>\n",
       "      <td>800</td>\n",
       "      <td>816</td>\n",
       "    </tr>\n",
       "    <tr>\n",
       "      <th>2</th>\n",
       "      <td>Crem_Contig5428</td>\n",
       "      <td>802</td>\n",
       "      <td>818</td>\n",
       "    </tr>\n",
       "    <tr>\n",
       "      <th>3</th>\n",
       "      <td>Crem_Contig5428</td>\n",
       "      <td>804</td>\n",
       "      <td>820</td>\n",
       "    </tr>\n",
       "    <tr>\n",
       "      <th>4</th>\n",
       "      <td>Crem_Contig5428</td>\n",
       "      <td>947</td>\n",
       "      <td>971</td>\n",
       "    </tr>\n",
       "    <tr>\n",
       "      <th>...</th>\n",
       "      <td>...</td>\n",
       "      <td>...</td>\n",
       "      <td>...</td>\n",
       "    </tr>\n",
       "    <tr>\n",
       "      <th>176799</th>\n",
       "      <td>Crem_Contig1426</td>\n",
       "      <td>9952</td>\n",
       "      <td>9970</td>\n",
       "    </tr>\n",
       "    <tr>\n",
       "      <th>176800</th>\n",
       "      <td>Crem_Contig1426</td>\n",
       "      <td>9953</td>\n",
       "      <td>9969</td>\n",
       "    </tr>\n",
       "    <tr>\n",
       "      <th>176801</th>\n",
       "      <td>Crem_Contig1426</td>\n",
       "      <td>9954</td>\n",
       "      <td>9970</td>\n",
       "    </tr>\n",
       "    <tr>\n",
       "      <th>176802</th>\n",
       "      <td>Crem_Contig1426</td>\n",
       "      <td>9955</td>\n",
       "      <td>9971</td>\n",
       "    </tr>\n",
       "    <tr>\n",
       "      <th>176803</th>\n",
       "      <td>Crem_Contig1426</td>\n",
       "      <td>9956</td>\n",
       "      <td>9972</td>\n",
       "    </tr>\n",
       "  </tbody>\n",
       "</table>\n",
       "<p>176804 rows × 3 columns</p>\n",
       "</div>"
      ],
      "text/plain": [
       "                 Contig  start   end\n",
       "0       Crem_Contig5428    798   816\n",
       "1       Crem_Contig5428    800   816\n",
       "2       Crem_Contig5428    802   818\n",
       "3       Crem_Contig5428    804   820\n",
       "4       Crem_Contig5428    947   971\n",
       "...                 ...    ...   ...\n",
       "176799  Crem_Contig1426   9952  9970\n",
       "176800  Crem_Contig1426   9953  9969\n",
       "176801  Crem_Contig1426   9954  9970\n",
       "176802  Crem_Contig1426   9955  9971\n",
       "176803  Crem_Contig1426   9956  9972\n",
       "\n",
       "[176804 rows x 3 columns]"
      ]
     },
     "execution_count": 4,
     "metadata": {},
     "output_type": "execute_result"
    }
   ],
   "source": [
    "def make_contig_to_position_dict(genomic_file):\n",
    "    contigs_bounds = []\n",
    "    cumsum = 1\n",
    "    for record in SeqIO.parse(genomic_file, \"fasta\"):\n",
    "        contigs_bounds.append((record.id, cumsum, cumsum + len(str(record.seq)) - 1))\n",
    "        cumsum += len(str(record.seq))\n",
    "        \n",
    "    result = []\n",
    "    \n",
    "    zhunt_output = f'{genomic_file}.Z-SCORE'\n",
    "    \n",
    "    with open(zhunt_output, 'r') as f:\n",
    "        next(f)\n",
    "        zhunt_pairs = [tuple(map(int, line.split()[:2])) for line in f]\n",
    "\n",
    "    zhunt_pairs.sort(key=lambda x: x[0])\n",
    "    \n",
    "    current_contig_idx = 0\n",
    "    unreached_lines = 0\n",
    "    total_lines = 0\n",
    "    picked_lines = 0\n",
    "    for begin, end in zhunt_pairs:\n",
    "        total_lines += 1            \n",
    "        while current_contig_idx < len(contigs_bounds) and begin > contigs_bounds[current_contig_idx][2]:\n",
    "            current_contig_idx += 1\n",
    "            \n",
    "        if current_contig_idx >= len(contigs_bounds):\n",
    "            break\n",
    "            \n",
    "        contig, contig_begin, contig_end = contigs_bounds[current_contig_idx]\n",
    "        \n",
    "        if contig_begin <= begin and end <= contig_end:\n",
    "            picked_lines += 1\n",
    "            result.append({\n",
    "                'Contig': contig,\n",
    "                'start': begin - contig_begin,\n",
    "                'end': end - contig_begin\n",
    "            })\n",
    "        \n",
    "    print(f'    {picked_lines} lines added to bed file out of {total_lines}')\n",
    "                \n",
    "    return result\n",
    "\n",
    "all_files_zhunt_result = []\n",
    "for i in range(1, 7):\n",
    "    filepath = f'data/splitted_genome_6/remanei_genomic.part_00{i}.fa'\n",
    "    print(f'Parsing {filepath}')\n",
    "    all_files_zhunt_result.extend(make_contig_to_position_dict(filepath))\n",
    "    \n",
    "zhunt_df = pd.DataFrame(all_files_zhunt_result)\n",
    "save_bed(zhunt_df, 'zhunt_result')\n",
    "zhunt_df"
   ]
  },
  {
   "cell_type": "markdown",
   "id": "c474da32",
   "metadata": {},
   "source": [
    "Поскольку Z-Hunt выдает пересекающиеся предсказания сделаем merge"
   ]
  },
  {
   "cell_type": "code",
   "execution_count": 6,
   "id": "9b3de2ff",
   "metadata": {},
   "outputs": [],
   "source": [
    "%%bash\n",
    "bedtools sort -i zhunt_result.bed > zhunt_result.sorted.bed\n",
    "bedtools merge -i zhunt_result.sorted.bed > zhunt_result.merged.bed"
   ]
  },
  {
   "cell_type": "markdown",
   "id": "0db8843e",
   "metadata": {},
   "source": [
    "# Квадруплексы"
   ]
  },
  {
   "cell_type": "markdown",
   "id": "c17085ee",
   "metadata": {},
   "source": [
    "Теперь ищем квадруплексы для обоих стрендов по известным regex. Результат снова сохраним в bed файл"
   ]
  },
  {
   "cell_type": "code",
   "execution_count": 11,
   "id": "687363f5",
   "metadata": {},
   "outputs": [
    {
     "data": {
      "application/vnd.microsoft.datawrangler.viewer.v0+json": {
       "columns": [
        {
         "name": "index",
         "rawType": "int64",
         "type": "integer"
        },
        {
         "name": "Scaffold",
         "rawType": "object",
         "type": "string"
        },
        {
         "name": "Start",
         "rawType": "int64",
         "type": "integer"
        },
        {
         "name": "End",
         "rawType": "int64",
         "type": "integer"
        },
        {
         "name": "Name",
         "rawType": "object",
         "type": "string"
        },
        {
         "name": "Score",
         "rawType": "object",
         "type": "string"
        },
        {
         "name": "Strand",
         "rawType": "object",
         "type": "string"
        }
       ],
       "ref": "c7035561-2aa0-40a7-8b43-14a4578b4966",
       "rows": [
        [
         "0",
         "Crem_Contig264",
         "51703",
         "51718",
         "",
         "",
         "+"
        ],
        [
         "1",
         "Crem_Contig264",
         "77587",
         "77603",
         "",
         "",
         "+"
        ],
        [
         "2",
         "Crem_Contig264",
         "113783",
         "113806",
         "",
         "",
         "+"
        ],
        [
         "3",
         "Crem_Contig264",
         "13057",
         "13079",
         "",
         "",
         "-"
        ],
        [
         "4",
         "Crem_Contig264",
         "49351",
         "49367",
         "",
         "",
         "-"
        ],
        [
         "5",
         "Crem_Contig264",
         "71029",
         "71045",
         "",
         "",
         "-"
        ],
        [
         "6",
         "Crem_Contig374",
         "7336",
         "7352",
         "",
         "",
         "+"
        ],
        [
         "7",
         "Crem_Contig374",
         "15468",
         "15486",
         "",
         "",
         "+"
        ],
        [
         "8",
         "Crem_Contig47",
         "6510",
         "6529",
         "",
         "",
         "+"
        ],
        [
         "9",
         "Crem_Contig47",
         "17729",
         "17764",
         "",
         "",
         "+"
        ],
        [
         "10",
         "Crem_Contig47",
         "64561",
         "64589",
         "",
         "",
         "+"
        ],
        [
         "11",
         "Crem_Contig47",
         "117910",
         "117960",
         "",
         "",
         "+"
        ],
        [
         "12",
         "Crem_Contig47",
         "117988",
         "118011",
         "",
         "",
         "+"
        ],
        [
         "13",
         "Crem_Contig47",
         "118180",
         "118198",
         "",
         "",
         "+"
        ],
        [
         "14",
         "Crem_Contig47",
         "118226",
         "118249",
         "",
         "",
         "+"
        ],
        [
         "15",
         "Crem_Contig47",
         "192629",
         "192645",
         "",
         "",
         "+"
        ],
        [
         "16",
         "Crem_Contig47",
         "227425",
         "227446",
         "",
         "",
         "+"
        ],
        [
         "17",
         "Crem_Contig47",
         "236138",
         "236155",
         "",
         "",
         "+"
        ],
        [
         "18",
         "Crem_Contig47",
         "273893",
         "273908",
         "",
         "",
         "+"
        ],
        [
         "19",
         "Crem_Contig47",
         "350717",
         "350740",
         "",
         "",
         "+"
        ],
        [
         "20",
         "Crem_Contig47",
         "374806",
         "374822",
         "",
         "",
         "+"
        ],
        [
         "21",
         "Crem_Contig47",
         "483370",
         "483387",
         "",
         "",
         "+"
        ],
        [
         "22",
         "Crem_Contig47",
         "503935",
         "503953",
         "",
         "",
         "+"
        ],
        [
         "23",
         "Crem_Contig47",
         "507476",
         "507502",
         "",
         "",
         "+"
        ],
        [
         "24",
         "Crem_Contig47",
         "208210",
         "208245",
         "",
         "",
         "-"
        ],
        [
         "25",
         "Crem_Contig47",
         "289088",
         "289113",
         "",
         "",
         "-"
        ],
        [
         "26",
         "Crem_Contig47",
         "391479",
         "391502",
         "",
         "",
         "-"
        ],
        [
         "27",
         "Crem_Contig44",
         "68007",
         "68028",
         "",
         "",
         "+"
        ],
        [
         "28",
         "Crem_Contig44",
         "310918",
         "310942",
         "",
         "",
         "+"
        ],
        [
         "29",
         "Crem_Contig44",
         "441237",
         "441258",
         "",
         "",
         "+"
        ],
        [
         "30",
         "Crem_Contig44",
         "581413",
         "581436",
         "",
         "",
         "+"
        ],
        [
         "31",
         "Crem_Contig44",
         "200566",
         "200593",
         "",
         "",
         "-"
        ],
        [
         "32",
         "Crem_Contig44",
         "440973",
         "441004",
         "",
         "",
         "-"
        ],
        [
         "33",
         "Crem_Contig44",
         "527859",
         "527887",
         "",
         "",
         "-"
        ],
        [
         "34",
         "Crem_Contig44",
         "612647",
         "612664",
         "",
         "",
         "-"
        ],
        [
         "35",
         "Crem_Contig44",
         "631121",
         "631144",
         "",
         "",
         "-"
        ],
        [
         "36",
         "Crem_Contig18",
         "76051",
         "76076",
         "",
         "",
         "+"
        ],
        [
         "37",
         "Crem_Contig18",
         "207490",
         "207518",
         "",
         "",
         "+"
        ],
        [
         "38",
         "Crem_Contig18",
         "291429",
         "291454",
         "",
         "",
         "+"
        ],
        [
         "39",
         "Crem_Contig18",
         "291680",
         "291701",
         "",
         "",
         "+"
        ],
        [
         "40",
         "Crem_Contig18",
         "401522",
         "401542",
         "",
         "",
         "+"
        ],
        [
         "41",
         "Crem_Contig18",
         "582711",
         "582735",
         "",
         "",
         "+"
        ],
        [
         "42",
         "Crem_Contig18",
         "770730",
         "770760",
         "",
         "",
         "+"
        ],
        [
         "43",
         "Crem_Contig18",
         "788836",
         "788852",
         "",
         "",
         "+"
        ],
        [
         "44",
         "Crem_Contig18",
         "828925",
         "828941",
         "",
         "",
         "+"
        ],
        [
         "45",
         "Crem_Contig18",
         "829967",
         "829996",
         "",
         "",
         "+"
        ],
        [
         "46",
         "Crem_Contig18",
         "830884",
         "830922",
         "",
         "",
         "+"
        ],
        [
         "47",
         "Crem_Contig18",
         "853145",
         "853168",
         "",
         "",
         "+"
        ],
        [
         "48",
         "Crem_Contig18",
         "910166",
         "910192",
         "",
         "",
         "+"
        ],
        [
         "49",
         "Crem_Contig18",
         "944984",
         "945006",
         "",
         "",
         "+"
        ]
       ],
       "shape": {
        "columns": 6,
        "rows": 4729
       }
      },
      "text/html": [
       "<div>\n",
       "<style scoped>\n",
       "    .dataframe tbody tr th:only-of-type {\n",
       "        vertical-align: middle;\n",
       "    }\n",
       "\n",
       "    .dataframe tbody tr th {\n",
       "        vertical-align: top;\n",
       "    }\n",
       "\n",
       "    .dataframe thead th {\n",
       "        text-align: right;\n",
       "    }\n",
       "</style>\n",
       "<table border=\"1\" class=\"dataframe\">\n",
       "  <thead>\n",
       "    <tr style=\"text-align: right;\">\n",
       "      <th></th>\n",
       "      <th>Scaffold</th>\n",
       "      <th>Start</th>\n",
       "      <th>End</th>\n",
       "      <th>Name</th>\n",
       "      <th>Score</th>\n",
       "      <th>Strand</th>\n",
       "    </tr>\n",
       "  </thead>\n",
       "  <tbody>\n",
       "    <tr>\n",
       "      <th>0</th>\n",
       "      <td>Crem_Contig264</td>\n",
       "      <td>51703</td>\n",
       "      <td>51718</td>\n",
       "      <td></td>\n",
       "      <td></td>\n",
       "      <td>+</td>\n",
       "    </tr>\n",
       "    <tr>\n",
       "      <th>1</th>\n",
       "      <td>Crem_Contig264</td>\n",
       "      <td>77587</td>\n",
       "      <td>77603</td>\n",
       "      <td></td>\n",
       "      <td></td>\n",
       "      <td>+</td>\n",
       "    </tr>\n",
       "    <tr>\n",
       "      <th>2</th>\n",
       "      <td>Crem_Contig264</td>\n",
       "      <td>113783</td>\n",
       "      <td>113806</td>\n",
       "      <td></td>\n",
       "      <td></td>\n",
       "      <td>+</td>\n",
       "    </tr>\n",
       "    <tr>\n",
       "      <th>3</th>\n",
       "      <td>Crem_Contig264</td>\n",
       "      <td>13057</td>\n",
       "      <td>13079</td>\n",
       "      <td></td>\n",
       "      <td></td>\n",
       "      <td>-</td>\n",
       "    </tr>\n",
       "    <tr>\n",
       "      <th>4</th>\n",
       "      <td>Crem_Contig264</td>\n",
       "      <td>49351</td>\n",
       "      <td>49367</td>\n",
       "      <td></td>\n",
       "      <td></td>\n",
       "      <td>-</td>\n",
       "    </tr>\n",
       "    <tr>\n",
       "      <th>...</th>\n",
       "      <td>...</td>\n",
       "      <td>...</td>\n",
       "      <td>...</td>\n",
       "      <td>...</td>\n",
       "      <td>...</td>\n",
       "      <td>...</td>\n",
       "    </tr>\n",
       "    <tr>\n",
       "      <th>4724</th>\n",
       "      <td>Crem_Contig75</td>\n",
       "      <td>358660</td>\n",
       "      <td>358683</td>\n",
       "      <td></td>\n",
       "      <td></td>\n",
       "      <td>-</td>\n",
       "    </tr>\n",
       "    <tr>\n",
       "      <th>4725</th>\n",
       "      <td>Crem_Contig75</td>\n",
       "      <td>384841</td>\n",
       "      <td>384856</td>\n",
       "      <td></td>\n",
       "      <td></td>\n",
       "      <td>-</td>\n",
       "    </tr>\n",
       "    <tr>\n",
       "      <th>4726</th>\n",
       "      <td>Crem_Contig1067</td>\n",
       "      <td>987</td>\n",
       "      <td>1015</td>\n",
       "      <td></td>\n",
       "      <td></td>\n",
       "      <td>+</td>\n",
       "    </tr>\n",
       "    <tr>\n",
       "      <th>4727</th>\n",
       "      <td>Crem_Contig1067</td>\n",
       "      <td>695</td>\n",
       "      <td>711</td>\n",
       "      <td></td>\n",
       "      <td></td>\n",
       "      <td>-</td>\n",
       "    </tr>\n",
       "    <tr>\n",
       "      <th>4728</th>\n",
       "      <td>Crem_Contig1067</td>\n",
       "      <td>3001</td>\n",
       "      <td>3025</td>\n",
       "      <td></td>\n",
       "      <td></td>\n",
       "      <td>-</td>\n",
       "    </tr>\n",
       "  </tbody>\n",
       "</table>\n",
       "<p>4729 rows × 6 columns</p>\n",
       "</div>"
      ],
      "text/plain": [
       "             Scaffold   Start     End Name Score Strand\n",
       "0      Crem_Contig264   51703   51718                 +\n",
       "1      Crem_Contig264   77587   77603                 +\n",
       "2      Crem_Contig264  113783  113806                 +\n",
       "3      Crem_Contig264   13057   13079                 -\n",
       "4      Crem_Contig264   49351   49367                 -\n",
       "...               ...     ...     ...  ...   ...    ...\n",
       "4724    Crem_Contig75  358660  358683                 -\n",
       "4725    Crem_Contig75  384841  384856                 -\n",
       "4726  Crem_Contig1067     987    1015                 +\n",
       "4727  Crem_Contig1067     695     711                 -\n",
       "4728  Crem_Contig1067    3001    3025                 -\n",
       "\n",
       "[4729 rows x 6 columns]"
      ]
     },
     "execution_count": 11,
     "metadata": {},
     "output_type": "execute_result"
    }
   ],
   "source": [
    "import re\n",
    "\n",
    "pattern_plus = r\"((?:G{3,}[ATGC]{1,7}){3,}G{3,})\"\n",
    "pattern_minus = r\"((?:C{3,}[ATGC]{1,7}){3,}C{3,})\"\n",
    "\n",
    "def compile_patterns(plus: str, minus: str):\n",
    "    return [\n",
    "        (re.compile(plus, re.IGNORECASE), '+'),\n",
    "        (re.compile(minus, re.IGNORECASE), '-')\n",
    "    ]\n",
    "\n",
    "def find_pqs(input_path, patterns):\n",
    "    rows = []\n",
    "    for record in SeqIO.parse(input_path, 'fasta'):\n",
    "        seq = str(record.seq)\n",
    "        for regex, strand in patterns:\n",
    "            for m in regex.finditer(seq):\n",
    "                rows.append({\n",
    "                    'Scaffold': record.id,\n",
    "                    'Start': m.start(),\n",
    "                    'End': m.end(),\n",
    "                    'Name': '',\n",
    "                    'Score': '',\n",
    "                    'Strand': strand\n",
    "                })\n",
    "    return pd.DataFrame(rows, columns=['Scaffold', 'Start', 'End', 'Name', 'Score', 'Strand'])\n",
    "\n",
    "patterns = compile_patterns(pattern_plus, pattern_minus)\n",
    "quad_results = find_pqs('data/remanei_genomic.fa', patterns)\n",
    "save_bed(quad_results, 'quad_result')\n",
    "quad_results"
   ]
  },
  {
   "cell_type": "markdown",
   "id": "06e62210",
   "metadata": {},
   "source": [
    "# Составление таблиц"
   ]
  },
  {
   "cell_type": "markdown",
   "id": "cd33c0b3",
   "metadata": {},
   "source": [
    "Все данные готовы, можно начинать анализировать, сначала прочитаем нашу аннотацию"
   ]
  },
  {
   "cell_type": "code",
   "execution_count": 2,
   "id": "656deeb7",
   "metadata": {},
   "outputs": [],
   "source": [
    "gff_cols = ['seqid','source','type','start','end','score','strand','phase','attributes']\n",
    "gff = pd.read_csv(\n",
    "    'data/remanei_annotations.gff3',\n",
    "    sep='\\t',\n",
    "    comment='#',\n",
    "    header=None,\n",
    "    names=gff_cols\n",
    ")"
   ]
  },
  {
   "cell_type": "markdown",
   "id": "60c34784",
   "metadata": {},
   "source": [
    "Достанем из нее экзоны и гены"
   ]
  },
  {
   "cell_type": "code",
   "execution_count": 5,
   "id": "dcef0ecc",
   "metadata": {},
   "outputs": [
    {
     "name": "stdout",
     "output_type": "stream",
     "text": [
      "Exons BED:\n",
      "       seqid  start0  end\n",
      "Crem_Contig0     230  362\n",
      "Crem_Contig0     411  546\n",
      "Crem_Contig0     593  736\n",
      "Crem_Contig0     787  873\n",
      "Crem_Contig0     920 1012\n",
      "\n",
      "Genes BED:\n",
      "       seqid  start0   end\n",
      "Crem_Contig0     230  1012\n",
      "Crem_Contig0    3678  5874\n",
      "Crem_Contig0    9033 10647\n",
      "Crem_Contig0   13157 13948\n",
      "Crem_Contig0   15296 15939\n"
     ]
    }
   ],
   "source": [
    "exons = gff[gff['type'] == 'exon'].copy()\n",
    "exons['start0'] = exons['start'] - 1\n",
    "exons_bed = exons[['seqid', 'start0', 'end']].sort_values(['seqid', 'start0'])\n",
    "exons_bed.to_csv('exons.bed', sep='\\t', header=False, index=False)\n",
    "save_bed(exons_bed, 'exons')\n",
    "\n",
    "genes = gff[gff['type'] == 'gene'].copy()\n",
    "genes['start0'] = genes['start'] - 1\n",
    "genes_bed = genes[['seqid', 'start0', 'end']] \\\n",
    "    .sort_values(['seqid', 'start0'])\n",
    "genes_bed.to_csv('genes.bed', sep='\\t', header=False, index=False)\n",
    "save_bed(genes_bed, 'genes')\n",
    "\n",
    "print(\"Exons BED:\")\n",
    "print(exons_bed.head().to_string(index=False))\n",
    "print(\"\\nGenes BED:\")\n",
    "print(genes_bed.head().to_string(index=False))"
   ]
  },
  {
   "cell_type": "markdown",
   "id": "ed2f3b29",
   "metadata": {},
   "source": [
    "Интроны это гены без экзонов, значит достаточно просто сделать subtract"
   ]
  },
  {
   "cell_type": "code",
   "execution_count": 6,
   "id": "ec70e0bc",
   "metadata": {},
   "outputs": [
    {
     "name": "stdout",
     "output_type": "stream",
     "text": [
      "Crem_Contig0\t362\t411\n",
      "Crem_Contig0\t546\t593\n",
      "Crem_Contig0\t736\t787\n",
      "Crem_Contig0\t873\t920\n",
      "Crem_Contig0\t3729\t4102\n",
      "Crem_Contig0\t4178\t4224\n",
      "Crem_Contig0\t4284\t4329\n",
      "Crem_Contig0\t4398\t4802\n",
      "Crem_Contig0\t5299\t5736\n",
      "Crem_Contig0\t9162\t9240\n"
     ]
    }
   ],
   "source": [
    "%%bash\n",
    "sort -k1,1 -k2,2n genes.bed  > genes.sorted.bed\n",
    "sort -k1,1 -k2,2n exons.bed  > exons.sorted.bed\n",
    "\n",
    "bedtools subtract -a genes.sorted.bed -b exons.sorted.bed > introns.bed\n",
    "\n",
    "head introns.bed"
   ]
  },
  {
   "cell_type": "markdown",
   "id": "c51539d8",
   "metadata": {},
   "source": [
    "Теперь создадим удобный bed файл с колонкой имени и стрэнда, стрнэнд нам нужен чтобы определять направление, например для поиска downstream и промотеров, а имя просто для удобства выполнения групповой части"
   ]
  },
  {
   "cell_type": "code",
   "execution_count": 40,
   "id": "cc01193c",
   "metadata": {},
   "outputs": [],
   "source": [
    "import re\n",
    "\n",
    "def extract_name(attr):\n",
    "    m = re.search(r\"Name=([^;]+)\", attr)\n",
    "    return m.group(1) if m else \"unknown\"\n",
    "\n",
    "genes6 = genes[['seqid','start0','end','strand']].copy()\n",
    "genes6['name']  = genes['attributes'].apply(extract_name)\n",
    "genes6['score'] = '0'\n",
    "save_bed(genes6[['seqid','start0','end','name','score','strand']], 'genes6')"
   ]
  },
  {
   "cell_type": "markdown",
   "id": "e44ff0ad",
   "metadata": {},
   "source": [
    "Посчитаем длины всех контигов в геноме"
   ]
  },
  {
   "cell_type": "code",
   "execution_count": 12,
   "id": "f5f12682",
   "metadata": {},
   "outputs": [
    {
     "name": "stdout",
     "output_type": "stream",
     "text": [
      "Crem_Contig5428\t2460\n",
      "Crem_Contig1821\t4048\n",
      "Crem_Contig1114\t11957\n"
     ]
    }
   ],
   "source": [
    "%%bash\n",
    "\n",
    "samtools faidx data/remanei_genomic.fa -o remanei_genomic.fai\n",
    "cut -f1,2 remanei_genomic.fai > contig.sizes\n",
    "\n",
    "head -n 3 contig.sizes"
   ]
  },
  {
   "cell_type": "markdown",
   "id": "1b1a73e2",
   "metadata": {},
   "source": [
    "Промотеры берем как 1000 пар оснований справа от гена"
   ]
  },
  {
   "cell_type": "code",
   "execution_count": 41,
   "id": "5ed2a3e7",
   "metadata": {},
   "outputs": [
    {
     "name": "stdout",
     "output_type": "stream",
     "text": [
      "Crem_Contig0\t1012\t2012\tWBGene00051210\t0\t-\n",
      "Crem_Contig0\t2678\t3678\tWBGene00051212\t0\t+\n",
      "Crem_Contig0\t8033\t9033\tWBGene00051213\t0\t+\n"
     ]
    }
   ],
   "source": [
    "%%bash\n",
    "\n",
    "bedtools flank -i genes6.bed -g contig.sizes -l 1000 -r 0 -s > promoters.bed\n",
    "\n",
    "head -n 3 promoters.bed"
   ]
  },
  {
   "cell_type": "markdown",
   "id": "3cc9d28d",
   "metadata": {},
   "source": [
    "Downstream участки как 200 пар основания справа от генов"
   ]
  },
  {
   "cell_type": "code",
   "execution_count": 36,
   "id": "3288c3db",
   "metadata": {},
   "outputs": [
    {
     "name": "stdout",
     "output_type": "stream",
     "text": [
      "Crem_Contig0\t30\t230\tWBGene00051210\t0\t-\n",
      "Crem_Contig0\t5874\t6074\tWBGene00051212\t0\t+\n",
      "Crem_Contig0\t10647\t10847\tWBGene00051213\t0\t+\n"
     ]
    }
   ],
   "source": [
    "%%bash\n",
    "\n",
    "bedtools flank -i genes6.bed -g contig.sizes -l 0 -r 200 -s > downstream.bed\n",
    "\n",
    "head -n 3 downstream.bed"
   ]
  },
  {
   "cell_type": "markdown",
   "id": "a73e4903",
   "metadata": {},
   "source": [
    "Межгенные участки найдем просто найдя дополнения до уже узвестных нам участков генов"
   ]
  },
  {
   "cell_type": "code",
   "execution_count": 37,
   "id": "99811297",
   "metadata": {},
   "outputs": [
    {
     "name": "stdout",
     "output_type": "stream",
     "text": [
      "Crem_Contig5428\t0\t2460\n",
      "Crem_Contig1821\t0\t1116\n",
      "Crem_Contig1821\t4047\t4048\n"
     ]
    }
   ],
   "source": [
    "%%bash\n",
    "\n",
    "bedtools sort -i genes.bed -g contig.sizes > genes_sorted_as_contig.bed\n",
    "\n",
    "bedtools complement -i genes_sorted_as_contig.bed -g contig.sizes > intergenic.bed\n",
    "\n",
    "head -n 3 intergenic.bed"
   ]
  },
  {
   "cell_type": "code",
   "execution_count": 27,
   "id": "ec81057f",
   "metadata": {},
   "outputs": [],
   "source": [
    "%%bash\n",
    "\n",
    "sort -k1,1 -k2,2n quad_result.bed > quad_result.sorted.bed\n",
    "sort -k1,1 -k2,2n zhunt_result.merged.bed > zhunt_result.merged.sorted.bed\n",
    "sort -k1,1 -k2,2n zdnabert_result.bed > zdnabert_result.sorted.bed"
   ]
  },
  {
   "cell_type": "code",
   "execution_count": 12,
   "id": "48e34492",
   "metadata": {},
   "outputs": [],
   "source": [
    "%%bash\n",
    "\n",
    "cp quad_result.sorted.bed quad.bed\n",
    "cp zhunt_result.merged.sorted.bed zhunt.bed\n",
    "cp zdnabert_result.sorted.bed zdnabert.bed"
   ]
  },
  {
   "cell_type": "markdown",
   "id": "cf8d6df3",
   "metadata": {},
   "source": [
    "Теперь пересечем все интерисующие нас участки с выходами zhunt, ZDNABERT и найденными квадруплексами"
   ]
  },
  {
   "cell_type": "code",
   "execution_count": 34,
   "id": "40b5e79a",
   "metadata": {},
   "outputs": [],
   "source": [
    "def count_lines(path):\n",
    "    with open(path, 'r', encoding='utf-8') as f:\n",
    "        return sum(1 for _ in f)\n",
    "\n",
    "results = {\n",
    "  'Quadruplex': 'quad.bed',\n",
    "  'Z-Hunt': 'zhunt.bed',\n",
    "  'ZDNABERT': 'zdnabert.bed',\n",
    "}\n",
    "\n",
    "positions = [\n",
    "  'genes',\n",
    "  'exons',\n",
    "  'introns',\n",
    "  'promoters',\n",
    "  'downstream',\n",
    "  'intergenic',\n",
    "]\n",
    "\n",
    "table1_df = pd.DataFrame(columns=results.keys(), index=positions)\n",
    "table2_df = pd.DataFrame(columns=results.keys(), index=positions)\n",
    "\n",
    "for result_name, result_file in results.items():\n",
    "    for position in positions:\n",
    "      table1_intersection_result_file = f'tables/table1_{position}_{result_name}.bed'\n",
    "      table2_intersection_result_file = f'tables/table2_{position}_{result_name}.bed'\n",
    "      \n",
    "      !bedtools intersect -a {result_file} -b {position}.bed -u > {table1_intersection_result_file}\n",
    "      !bedtools intersect -a {position}.bed -b {result_file} -u > {table2_intersection_result_file}\n",
    "      \n",
    "      table1_df.loc[position, result_name] = count_lines(table1_intersection_result_file)\n",
    "      table2_df.loc[position, result_name] = count_lines(table2_intersection_result_file)"
   ]
  },
  {
   "cell_type": "code",
   "execution_count": 35,
   "id": "f42925ee",
   "metadata": {},
   "outputs": [],
   "source": [
    "for structure in results.keys():\n",
    "    table1_df[f'{structure} count'] = table1_df[structure]\n",
    "    table1_df[f'{structure} fraction'] = table1_df[structure] / table1_df[structure].sum()\n",
    "    \n",
    "for structure in results.keys():\n",
    "    table2_df[f'Segments with {structure} prediction'] = table2_df[structure]"
   ]
  },
  {
   "cell_type": "markdown",
   "id": "f5501bba",
   "metadata": {},
   "source": [
    "Посчитаем общую длину геном для составления фона для первой таблицы"
   ]
  },
  {
   "cell_type": "code",
   "execution_count": 38,
   "id": "9dc2db28",
   "metadata": {},
   "outputs": [
    {
     "name": "stdout",
     "output_type": "stream",
     "text": [
      "145442736\n"
     ]
    }
   ],
   "source": [
    "%%bash\n",
    "\n",
    "grep -v '^>' data/remanei_genomic.fa | tr -d '\\n' | wc -c"
   ]
  },
  {
   "cell_type": "markdown",
   "id": "fd27b1ae",
   "metadata": {},
   "source": [
    "Смерджим интервалы внутри участков, чтобы посчитать точную суммарную длину участков для каждого участка генома"
   ]
  },
  {
   "cell_type": "code",
   "execution_count": 43,
   "id": "ea58101c",
   "metadata": {},
   "outputs": [],
   "source": [
    "for position in positions:\n",
    "    !sort -k1,1 -k2,2n {position}.bed  > {position}.sorted.bed\n",
    "    !bedtools merge -i {position}.sorted.bed > {position}.merged.bed"
   ]
  },
  {
   "cell_type": "markdown",
   "id": "57bcd317",
   "metadata": {},
   "source": [
    "Посчитаем фон для нашей первой таблицы, чтобы сравнить"
   ]
  },
  {
   "cell_type": "code",
   "execution_count": 44,
   "id": "71c7ea3c",
   "metadata": {},
   "outputs": [],
   "source": [
    "genome_length = 145442736\n",
    "\n",
    "def sum_bed_lengths(bed_path):\n",
    "    df = pd.read_csv(\n",
    "        bed_path,\n",
    "        sep='\\t',\n",
    "        header=None,\n",
    "    )\n",
    "    return int((df[2] - df[1]).sum())\n",
    "\n",
    "table1_df['background'] = table1_df.apply(lambda row: sum_bed_lengths(f'{row.name}.merged.bed') / genome_length, axis=1)"
   ]
  },
  {
   "cell_type": "markdown",
   "id": "ef8a9bbf",
   "metadata": {},
   "source": [
    "Выведем полученные таблицы и сохраним результат"
   ]
  },
  {
   "cell_type": "code",
   "execution_count": 45,
   "id": "b836258e",
   "metadata": {},
   "outputs": [
    {
     "name": "stdout",
     "output_type": "stream",
     "text": [
      "|            |   Quadruplex count |   Quadruplex fraction |   Z-Hunt count |   Z-Hunt fraction |   ZDNABERT count |   ZDNABERT fraction |   background |\n",
      "|:-----------|-------------------:|----------------------:|---------------:|------------------:|-----------------:|--------------------:|-------------:|\n",
      "| genes      |               1502 |             0.200561  |          10140 |         0.2613    |             4247 |           0.234188  |    0.478726  |\n",
      "| exons      |                286 |             0.0381893 |           5869 |         0.151239  |             2459 |           0.135594  |    0.266548  |\n",
      "| introns    |               1243 |             0.165977  |           5132 |         0.132248  |             1978 |           0.109071  |    0.21358   |\n",
      "| promoters  |                997 |             0.133129  |           4398 |         0.113333  |             2584 |           0.142487  |    0.200613  |\n",
      "| downstream |                226 |             0.0301776 |            967 |         0.0249188 |              309 |           0.0170389 |    0.0425487 |\n",
      "| intergenic |               3235 |             0.431967  |          12300 |         0.316961  |             6558 |           0.361621  |    0.521274  |\n"
     ]
    }
   ],
   "source": [
    "print(table1_df.drop(columns=[structure for structure in results.keys()]).to_markdown())"
   ]
  },
  {
   "cell_type": "code",
   "execution_count": 46,
   "id": "d3e7a5a8",
   "metadata": {},
   "outputs": [
    {
     "name": "stdout",
     "output_type": "stream",
     "text": [
      "|            |   Segments with Quadruplex prediction |   Segments with Z-Hunt prediction |   Segments with ZDNABERT prediction |\n",
      "|:-----------|--------------------------------------:|----------------------------------:|------------------------------------:|\n",
      "| genes      |                                  1104 |                              6666 |                                2826 |\n",
      "| exons      |                                   294 |                              5421 |                                2055 |\n",
      "| introns    |                                   933 |                              4253 |                                1606 |\n",
      "| promoters  |                                   980 |                              4036 |                                2501 |\n",
      "| downstream |                                   232 |                               944 |                                 299 |\n",
      "| intergenic |                                  2264 |                              6928 |                                3869 |\n"
     ]
    }
   ],
   "source": [
    "print(table2_df.drop(columns=[structure for structure in results.keys()]).to_markdown())"
   ]
  },
  {
   "cell_type": "code",
   "execution_count": 48,
   "id": "373c166c",
   "metadata": {},
   "outputs": [],
   "source": [
    "table1_df.to_csv('tables/table1.csv')\n",
    "table2_df.to_csv('tables/table2.csv')"
   ]
  }
 ],
 "metadata": {
  "kernelspec": {
   "display_name": "bioinfo",
   "language": "python",
   "name": "python3"
  },
  "language_info": {
   "codemirror_mode": {
    "name": "ipython",
    "version": 3
   },
   "file_extension": ".py",
   "mimetype": "text/x-python",
   "name": "python",
   "nbconvert_exporter": "python",
   "pygments_lexer": "ipython3",
   "version": "3.10.6"
  }
 },
 "nbformat": 4,
 "nbformat_minor": 5
}
